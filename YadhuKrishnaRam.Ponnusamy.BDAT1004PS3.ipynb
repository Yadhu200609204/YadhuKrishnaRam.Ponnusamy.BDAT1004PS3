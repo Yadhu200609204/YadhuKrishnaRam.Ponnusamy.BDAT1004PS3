{
 "cells": [
  {
   "cell_type": "code",
   "execution_count": null,
   "id": "5f559f2f-ef7f-4916-9d57-f400551b2fcd",
   "metadata": {},
   "outputs": [],
   "source": [
    "Problem Set 3"
   ]
  },
  {
   "cell_type": "code",
   "execution_count": null,
   "id": "9faa018a-4674-4af9-b459-22b14dd4d7b1",
   "metadata": {},
   "outputs": [],
   "source": [
    "Question 1"
   ]
  },
  {
   "cell_type": "code",
   "execution_count": 1,
   "id": "195b6878-3cb5-4c35-a662-e3423246da57",
   "metadata": {},
   "outputs": [],
   "source": [
    "#Step 1. Import the necessary libraries\n",
    "import pandas as pd\n"
   ]
  },
  {
   "cell_type": "code",
   "execution_count": 4,
   "id": "f47ed18b-b2ea-47a8-8e1c-3ef9e8b6b3a8",
   "metadata": {},
   "outputs": [],
   "source": [
    "#Step 2. Import the dataset\n",
    "\n",
    "url = \"https://raw.githubusercontent.com/justmarkham/DAT8/master/data/u.user\"\n"
   ]
  },
  {
   "cell_type": "code",
   "execution_count": 5,
   "id": "fe0bbe74-e402-4da8-bdad-13980113a0b0",
   "metadata": {},
   "outputs": [
    {
     "data": {
      "text/html": [
       "<div>\n",
       "<style scoped>\n",
       "    .dataframe tbody tr th:only-of-type {\n",
       "        vertical-align: middle;\n",
       "    }\n",
       "\n",
       "    .dataframe tbody tr th {\n",
       "        vertical-align: top;\n",
       "    }\n",
       "\n",
       "    .dataframe thead th {\n",
       "        text-align: right;\n",
       "    }\n",
       "</style>\n",
       "<table border=\"1\" class=\"dataframe\">\n",
       "  <thead>\n",
       "    <tr style=\"text-align: right;\">\n",
       "      <th></th>\n",
       "      <th>user_id</th>\n",
       "      <th>age</th>\n",
       "      <th>gender</th>\n",
       "      <th>occupation</th>\n",
       "      <th>zip_code</th>\n",
       "    </tr>\n",
       "  </thead>\n",
       "  <tbody>\n",
       "    <tr>\n",
       "      <th>0</th>\n",
       "      <td>1</td>\n",
       "      <td>24</td>\n",
       "      <td>M</td>\n",
       "      <td>technician</td>\n",
       "      <td>85711</td>\n",
       "    </tr>\n",
       "    <tr>\n",
       "      <th>1</th>\n",
       "      <td>2</td>\n",
       "      <td>53</td>\n",
       "      <td>F</td>\n",
       "      <td>other</td>\n",
       "      <td>94043</td>\n",
       "    </tr>\n",
       "    <tr>\n",
       "      <th>2</th>\n",
       "      <td>3</td>\n",
       "      <td>23</td>\n",
       "      <td>M</td>\n",
       "      <td>writer</td>\n",
       "      <td>32067</td>\n",
       "    </tr>\n",
       "    <tr>\n",
       "      <th>3</th>\n",
       "      <td>4</td>\n",
       "      <td>24</td>\n",
       "      <td>M</td>\n",
       "      <td>technician</td>\n",
       "      <td>43537</td>\n",
       "    </tr>\n",
       "    <tr>\n",
       "      <th>4</th>\n",
       "      <td>5</td>\n",
       "      <td>33</td>\n",
       "      <td>F</td>\n",
       "      <td>other</td>\n",
       "      <td>15213</td>\n",
       "    </tr>\n",
       "  </tbody>\n",
       "</table>\n",
       "</div>"
      ],
      "text/plain": [
       "   user_id  age gender  occupation zip_code\n",
       "0        1   24      M  technician    85711\n",
       "1        2   53      F       other    94043\n",
       "2        3   23      M      writer    32067\n",
       "3        4   24      M  technician    43537\n",
       "4        5   33      F       other    15213"
      ]
     },
     "execution_count": 5,
     "metadata": {},
     "output_type": "execute_result"
    }
   ],
   "source": [
    "#Step 3. Assign it to a variable called users\n",
    "users = pd.read_csv(url, sep='|')\n",
    "users.head()"
   ]
  },
  {
   "cell_type": "code",
   "execution_count": 6,
   "id": "d8f35a25-98de-4866-83f4-cd1467feb997",
   "metadata": {},
   "outputs": [
    {
     "name": "stdout",
     "output_type": "stream",
     "text": [
      "\n",
      "Mean Age per Occupation:\n",
      "occupation\n",
      "administrator    38.746835\n",
      "artist           31.392857\n",
      "doctor           43.571429\n",
      "educator         42.010526\n",
      "engineer         36.388060\n",
      "entertainment    29.222222\n",
      "executive        38.718750\n",
      "healthcare       41.562500\n",
      "homemaker        32.571429\n",
      "lawyer           36.750000\n",
      "librarian        40.000000\n",
      "marketing        37.615385\n",
      "none             26.555556\n",
      "other            34.523810\n",
      "programmer       33.121212\n",
      "retired          63.071429\n",
      "salesman         35.666667\n",
      "scientist        35.548387\n",
      "student          22.081633\n",
      "technician       33.148148\n",
      "writer           36.311111\n",
      "Name: age, dtype: float64\n"
     ]
    }
   ],
   "source": [
    "#Step 4. Discover what is the mean age per occupation\n",
    "mean_age_per_occupation = users.groupby('occupation')['age'].mean()\n",
    "print(\"\\nMean Age per Occupation:\")\n",
    "print(mean_age_per_occupation)"
   ]
  },
  {
   "cell_type": "code",
   "execution_count": 8,
   "id": "fd65d7be-939e-4322-ace6-acf13ffcce72",
   "metadata": {},
   "outputs": [
    {
     "name": "stdout",
     "output_type": "stream",
     "text": [
      "\n",
      "Male ratio per occupation:\n",
      " occupation\n",
      "doctor           1.000000\n",
      "engineer         0.970149\n",
      "technician       0.962963\n",
      "retired          0.928571\n",
      "programmer       0.909091\n",
      "executive        0.906250\n",
      "scientist        0.903226\n",
      "entertainment    0.888889\n",
      "lawyer           0.833333\n",
      "salesman         0.750000\n",
      "educator         0.726316\n",
      "student          0.693878\n",
      "other            0.657143\n",
      "marketing        0.615385\n",
      "writer           0.577778\n",
      "none             0.555556\n",
      "administrator    0.544304\n",
      "artist           0.535714\n",
      "librarian        0.431373\n",
      "healthcare       0.312500\n",
      "homemaker        0.142857\n",
      "Name: male, dtype: float64\n"
     ]
    }
   ],
   "source": [
    "#Step 5. Discover the Male ratio per occupation and sort it from the most to the least\n",
    "users['male'] = users['gender'].apply(lambda x: 1 if x == 'M' else 0)\n",
    "male_users_ratio = users.groupby('occupation')['male'].mean().sort_values(ascending=False)\n",
    "print(\"\\nMale ratio per occupation:\\n\", male_users_ratio)\n"
   ]
  },
  {
   "cell_type": "code",
   "execution_count": 9,
   "id": "f42d9d51-126d-4026-9a40-fdb65e6e2c5f",
   "metadata": {},
   "outputs": [
    {
     "name": "stdout",
     "output_type": "stream",
     "text": [
      "\n",
      "Minimum and Maximum Age per Occupation:\n",
      "               min  max\n",
      "occupation             \n",
      "administrator   21   70\n",
      "artist          19   48\n",
      "doctor          28   64\n",
      "educator        23   63\n",
      "engineer        22   70\n",
      "entertainment   15   50\n",
      "executive       22   69\n",
      "healthcare      22   62\n",
      "homemaker       20   50\n",
      "lawyer          21   53\n",
      "librarian       23   69\n",
      "marketing       24   55\n",
      "none            11   55\n",
      "other           13   64\n",
      "programmer      20   63\n",
      "retired         51   73\n",
      "salesman        18   66\n",
      "scientist       23   55\n",
      "student          7   42\n",
      "technician      21   55\n",
      "writer          18   60\n"
     ]
    }
   ],
   "source": [
    "#Step 6. For each occupation, calculate the minimum and maximum ages\n",
    "min_max_age_per_occupation = users.groupby('occupation')['age'].agg(['min', 'max'])\n",
    "print(\"\\nMinimum and Maximum Age per Occupation:\")\n",
    "print(min_max_age_per_occupation)"
   ]
  },
  {
   "cell_type": "code",
   "execution_count": 10,
   "id": "73d0db46-3a05-441f-931e-082ef5630df9",
   "metadata": {},
   "outputs": [
    {
     "name": "stdout",
     "output_type": "stream",
     "text": [
      "\n",
      "Mean Age per Occupation and Gender:\n",
      "occupation     gender\n",
      "administrator  F         40.638889\n",
      "               M         37.162791\n",
      "artist         F         30.307692\n",
      "               M         32.333333\n",
      "doctor         M         43.571429\n",
      "educator       F         39.115385\n",
      "               M         43.101449\n",
      "engineer       F         29.500000\n",
      "               M         36.600000\n",
      "entertainment  F         31.000000\n",
      "               M         29.000000\n",
      "executive      F         44.000000\n",
      "               M         38.172414\n",
      "healthcare     F         39.818182\n",
      "               M         45.400000\n",
      "homemaker      F         34.166667\n",
      "               M         23.000000\n",
      "lawyer         F         39.500000\n",
      "               M         36.200000\n",
      "librarian      F         40.000000\n",
      "               M         40.000000\n",
      "marketing      F         37.200000\n",
      "               M         37.875000\n",
      "none           F         36.500000\n",
      "               M         18.600000\n",
      "other          F         35.472222\n",
      "               M         34.028986\n",
      "programmer     F         32.166667\n",
      "               M         33.216667\n",
      "retired        F         70.000000\n",
      "               M         62.538462\n",
      "salesman       F         27.000000\n",
      "               M         38.555556\n",
      "scientist      F         28.333333\n",
      "               M         36.321429\n",
      "student        F         20.750000\n",
      "               M         22.669118\n",
      "technician     F         38.000000\n",
      "               M         32.961538\n",
      "writer         F         37.631579\n",
      "               M         35.346154\n",
      "Name: age, dtype: float64\n"
     ]
    }
   ],
   "source": [
    "# Step 7: For each combination of occupation and sex, calculate the mean age\n",
    "mean_age_per_occupation_and_sex = users.groupby(['occupation', 'gender'])['age'].mean()\n",
    "print(\"\\nMean Age per Occupation and Gender:\")\n",
    "print(mean_age_per_occupation_and_sex)"
   ]
  },
  {
   "cell_type": "code",
   "execution_count": 11,
   "id": "136ed189-50dc-4a45-b30d-19e47cb4b106",
   "metadata": {},
   "outputs": [
    {
     "data": {
      "text/plain": [
       "occupation     gender\n",
       "administrator  F         0.455696\n",
       "               M         0.544304\n",
       "artist         F         0.464286\n",
       "               M         0.535714\n",
       "doctor         M         1.000000\n",
       "educator       F         0.273684\n",
       "               M         0.726316\n",
       "engineer       F         0.029851\n",
       "               M         0.970149\n",
       "entertainment  F         0.111111\n",
       "               M         0.888889\n",
       "executive      F         0.093750\n",
       "               M         0.906250\n",
       "healthcare     F         0.687500\n",
       "               M         0.312500\n",
       "homemaker      F         0.857143\n",
       "               M         0.142857\n",
       "lawyer         F         0.166667\n",
       "               M         0.833333\n",
       "librarian      F         0.568627\n",
       "               M         0.431373\n",
       "marketing      F         0.384615\n",
       "               M         0.615385\n",
       "none           F         0.444444\n",
       "               M         0.555556\n",
       "other          F         0.342857\n",
       "               M         0.657143\n",
       "programmer     F         0.090909\n",
       "               M         0.909091\n",
       "retired        F         0.071429\n",
       "               M         0.928571\n",
       "salesman       F         0.250000\n",
       "               M         0.750000\n",
       "scientist      F         0.096774\n",
       "               M         0.903226\n",
       "student        F         0.306122\n",
       "               M         0.693878\n",
       "technician     F         0.037037\n",
       "               M         0.962963\n",
       "writer         F         0.422222\n",
       "               M         0.577778\n",
       "Name: gender, dtype: float64"
      ]
     },
     "execution_count": 11,
     "metadata": {},
     "output_type": "execute_result"
    }
   ],
   "source": [
    "Step 8. For each occupation present the percentage of women and men\n",
    "gender_ocup = users.groupby(['occupation', 'gender']).agg({'gender': 'count'})\n",
    "occup_count = users.groupby(['occupation']).count()\n",
    "occup_gender = gender_ocup.div(occup_count, level = \"occupation\")\n",
    "occup_gender.loc[:, 'gender']"
   ]
  },
  {
   "cell_type": "code",
   "execution_count": null,
   "id": "2db2ac5a-642e-492c-81a0-c8e7d04d085d",
   "metadata": {},
   "outputs": [],
   "source": [
    "Question 2"
   ]
  },
  {
   "cell_type": "code",
   "execution_count": 12,
   "id": "bb981357-ff88-408f-b18f-ab8a911e6980",
   "metadata": {},
   "outputs": [],
   "source": [
    "# Step 1: Import the necessary libraries\n",
    "import pandas as pd"
   ]
  },
  {
   "cell_type": "code",
   "execution_count": 17,
   "id": "08b39296-1ae8-4ae8-bbdb-54ef8a45c66e",
   "metadata": {},
   "outputs": [],
   "source": [
    "# Step 2: Import the dataset from the given URL\n",
    "url = \"https://raw.githubusercontent.com/guipsamora/pandas_exercises/master/02_Filtering_%26_Sorting/Euro12/Euro_2012_stats_TEAM.csv\"\n",
    "euro12 = pd.read_csv(url)"
   ]
  },
  {
   "cell_type": "code",
   "execution_count": 18,
   "id": "b07630fb-9ac6-4c21-8455-e553bc78f428",
   "metadata": {},
   "outputs": [
    {
     "name": "stdout",
     "output_type": "stream",
     "text": [
      "             Team  Goals  Shots on target  Shots off target Shooting Accuracy  \\\n",
      "0         Croatia      4               13                12             51.9%   \n",
      "1  Czech Republic      4               13                18             41.9%   \n",
      "2         Denmark      4               10                10             50.0%   \n",
      "3         England      5               11                18             50.0%   \n",
      "4          France      3               22                24             37.9%   \n",
      "\n",
      "  % Goals-to-shots  Total shots (inc. Blocked)  Hit Woodwork  Penalty goals  \\\n",
      "0            16.0%                          32             0              0   \n",
      "1            12.9%                          39             0              0   \n",
      "2            20.0%                          27             1              0   \n",
      "3            17.2%                          40             0              0   \n",
      "4             6.5%                          65             1              0   \n",
      "\n",
      "   Penalties not scored  ...  Saves made  Saves-to-shots ratio  Fouls Won  \\\n",
      "0                     0  ...          13                 81.3%         41   \n",
      "1                     0  ...           9                 60.1%         53   \n",
      "2                     0  ...          10                 66.7%         25   \n",
      "3                     0  ...          22                 88.1%         43   \n",
      "4                     0  ...           6                 54.6%         36   \n",
      "\n",
      "  Fouls Conceded  Offsides  Yellow Cards  Red Cards  Subs on  Subs off  \\\n",
      "0             62         2             9          0        9         9   \n",
      "1             73         8             7          0       11        11   \n",
      "2             38         8             4          0        7         7   \n",
      "3             45         6             5          0       11        11   \n",
      "4             51         5             6          0       11        11   \n",
      "\n",
      "   Players Used  \n",
      "0            16  \n",
      "1            19  \n",
      "2            15  \n",
      "3            16  \n",
      "4            19  \n",
      "\n",
      "[5 rows x 35 columns]\n"
     ]
    }
   ],
   "source": [
    "# Step 3: Assign the dataset to a variable called euro12\n",
    "print(euro12.head())"
   ]
  },
  {
   "cell_type": "code",
   "execution_count": 19,
   "id": "903f4a57-b1ea-44d2-b61d-dedf2a5fe5ce",
   "metadata": {},
   "outputs": [
    {
     "name": "stdout",
     "output_type": "stream",
     "text": [
      "\n",
      "Goals column:\n",
      " 0      4\n",
      "1      4\n",
      "2      4\n",
      "3      5\n",
      "4      3\n",
      "5     10\n",
      "6      5\n",
      "7      6\n",
      "8      2\n",
      "9      2\n",
      "10     6\n",
      "11     1\n",
      "12     5\n",
      "13    12\n",
      "14     5\n",
      "15     2\n",
      "Name: Goals, dtype: int64\n"
     ]
    }
   ],
   "source": [
    "# Step 4: Select only the Goal column\n",
    "goals = euro12['Goals']\n",
    "print(\"\\nGoals column:\\n\", goals)"
   ]
  },
  {
   "cell_type": "code",
   "execution_count": 20,
   "id": "20961293-d0d0-4a88-9984-1b846b8ade43",
   "metadata": {},
   "outputs": [
    {
     "name": "stdout",
     "output_type": "stream",
     "text": [
      "\n",
      "Number of teams participated in Euro 2012: 16\n"
     ]
    }
   ],
   "source": [
    "# Step 5: How many teams participated in the Euro 2012?\n",
    "num_teams = euro12['Team'].nunique()\n",
    "print(\"\\nNumber of teams participated in Euro 2012:\", num_teams)"
   ]
  },
  {
   "cell_type": "code",
   "execution_count": 21,
   "id": "8aaf5e79-65b3-4a48-be66-4abf0d41db7b",
   "metadata": {},
   "outputs": [
    {
     "name": "stdout",
     "output_type": "stream",
     "text": [
      "\n",
      "Number of columns in the dataset: 35\n"
     ]
    }
   ],
   "source": [
    "# Step 6: What is the number of columns in the dataset?\n",
    "num_columns = euro12.shape[1]\n",
    "print(\"\\nNumber of columns in the dataset:\", num_columns)"
   ]
  },
  {
   "cell_type": "code",
   "execution_count": 22,
   "id": "e975c1d3-9d6b-4b26-950b-0793288b7c02",
   "metadata": {},
   "outputs": [
    {
     "name": "stdout",
     "output_type": "stream",
     "text": [
      "\n",
      "Discipline DataFrame:\n",
      "                    Team  Yellow Cards  Red Cards\n",
      "0               Croatia             9          0\n",
      "1        Czech Republic             7          0\n",
      "2               Denmark             4          0\n",
      "3               England             5          0\n",
      "4                France             6          0\n",
      "5               Germany             4          0\n",
      "6                Greece             9          1\n",
      "7                 Italy            16          0\n",
      "8           Netherlands             5          0\n",
      "9                Poland             7          1\n",
      "10             Portugal            12          0\n",
      "11  Republic of Ireland             6          1\n",
      "12               Russia             6          0\n",
      "13                Spain            11          0\n",
      "14               Sweden             7          0\n",
      "15              Ukraine             5          0\n"
     ]
    }
   ],
   "source": [
    "# Step 7: View only the columns Team, Yellow Cards, and Red Cards, and assign them to a dataframe called discipline\n",
    "discipline = euro12[['Team', 'Yellow Cards', 'Red Cards']]\n",
    "print(\"\\nDiscipline DataFrame:\\n\", discipline)"
   ]
  },
  {
   "cell_type": "code",
   "execution_count": 118,
   "id": "90f777f4-c1b0-4d0c-948c-e319190c6172",
   "metadata": {},
   "outputs": [
    {
     "name": "stdout",
     "output_type": "stream",
     "text": [
      "\n",
      "Teams sorted by Red Cards then Yellow Cards:\n",
      "                    Team  Yellow Cards  Red Cards\n",
      "6                Greece             9          1\n",
      "9                Poland             7          1\n",
      "11  Republic of Ireland             6          1\n",
      "7                 Italy            16          0\n",
      "10             Portugal            12          0\n",
      "13                Spain            11          0\n",
      "0               Croatia             9          0\n",
      "1        Czech Republic             7          0\n",
      "14               Sweden             7          0\n",
      "4                France             6          0\n",
      "12               Russia             6          0\n",
      "3               England             5          0\n",
      "8           Netherlands             5          0\n",
      "15              Ukraine             5          0\n",
      "2               Denmark             4          0\n",
      "5               Germany             4          0\n"
     ]
    }
   ],
   "source": [
    "# Step 8: Sort the teams by Red Cards, then by Yellow Cards\n",
    "team_sorting = discipline.sort_values(by=['Red Cards', 'Yellow Cards'], ascending=False)\n",
    "print(\"\\nTeams sorted by Red Cards then Yellow Cards:\\n\", team_sorting)\n"
   ]
  },
  {
   "cell_type": "code",
   "execution_count": 24,
   "id": "2125aa00-52e8-4e13-866e-6f39ae867529",
   "metadata": {},
   "outputs": [
    {
     "name": "stdout",
     "output_type": "stream",
     "text": [
      "\n",
      "Mean Yellow Cards per team: 7.4375\n"
     ]
    }
   ],
   "source": [
    "# Step 9: Calculate the mean Yellow Cards given per Team\n",
    "mean_yellow_cards = euro12['Yellow Cards'].mean()\n",
    "print(\"\\nMean Yellow Cards per team:\", mean_yellow_cards)"
   ]
  },
  {
   "cell_type": "code",
   "execution_count": 27,
   "id": "3169637e-9da2-433a-82cd-4c4bea0d7f40",
   "metadata": {},
   "outputs": [
    {
     "name": "stdout",
     "output_type": "stream",
     "text": [
      "\n",
      "Teams that scored more than 6 goals:\n",
      " 5     Germany\n",
      "13      Spain\n",
      "Name: Team, dtype: object\n"
     ]
    }
   ],
   "source": [
    "#Step 10. Filter teams that scored more than 6 goals\n",
    "Top_Performing_Teams = euro12[euro12['Goals'] > 6]['Team']\n",
    "print(\"\\nTeams that scored more than 6 goals:\\n\", Top_Performing_Teams)\n"
   ]
  },
  {
   "cell_type": "code",
   "execution_count": 29,
   "id": "137778e8-9e50-40c4-94e2-4e3231e7a742",
   "metadata": {},
   "outputs": [
    {
     "name": "stdout",
     "output_type": "stream",
     "text": [
      "\n",
      "Teams starting with 'G':\n",
      "5    Germany\n",
      "6     Greece\n",
      "Name: Team, dtype: object\n"
     ]
    }
   ],
   "source": [
    "#Step 11. Select the teams that start with G\n",
    "teams_starting_with_G = euro12[euro12['Team'].str.startswith('G')]['Team']\n",
    "print(\"\\nTeams starting with 'G':\")\n",
    "print(teams_starting_with_G)\n"
   ]
  },
  {
   "cell_type": "code",
   "execution_count": 30,
   "id": "19172556-58b9-4b68-b690-fa8525e7eec9",
   "metadata": {},
   "outputs": [
    {
     "name": "stdout",
     "output_type": "stream",
     "text": [
      "\n",
      "First 7 columns:\n",
      "                    Team  Goals  Shots on target  Shots off target  \\\n",
      "0               Croatia      4               13                12   \n",
      "1        Czech Republic      4               13                18   \n",
      "2               Denmark      4               10                10   \n",
      "3               England      5               11                18   \n",
      "4                France      3               22                24   \n",
      "5               Germany     10               32                32   \n",
      "6                Greece      5                8                18   \n",
      "7                 Italy      6               34                45   \n",
      "8           Netherlands      2               12                36   \n",
      "9                Poland      2               15                23   \n",
      "10             Portugal      6               22                42   \n",
      "11  Republic of Ireland      1                7                12   \n",
      "12               Russia      5                9                31   \n",
      "13                Spain     12               42                33   \n",
      "14               Sweden      5               17                19   \n",
      "15              Ukraine      2                7                26   \n",
      "\n",
      "   Shooting Accuracy % Goals-to-shots  Total shots (inc. Blocked)  \n",
      "0              51.9%            16.0%                          32  \n",
      "1              41.9%            12.9%                          39  \n",
      "2              50.0%            20.0%                          27  \n",
      "3              50.0%            17.2%                          40  \n",
      "4              37.9%             6.5%                          65  \n",
      "5              47.8%            15.6%                          80  \n",
      "6              30.7%            19.2%                          32  \n",
      "7              43.0%             7.5%                         110  \n",
      "8              25.0%             4.1%                          60  \n",
      "9              39.4%             5.2%                          48  \n",
      "10             34.3%             9.3%                          82  \n",
      "11             36.8%             5.2%                          28  \n",
      "12             22.5%            12.5%                          59  \n",
      "13             55.9%            16.0%                         100  \n",
      "14             47.2%            13.8%                          39  \n",
      "15             21.2%             6.0%                          38  \n"
     ]
    }
   ],
   "source": [
    "# Step 12: Select the first 7 columns\n",
    "first_7_columns = euro12.iloc[:, :7]\n",
    "print(\"\\nFirst 7 columns:\\n\", first_7_columns)"
   ]
  },
  {
   "cell_type": "code",
   "execution_count": 31,
   "id": "86fc98e4-de25-4ceb-9e81-8c792c63a186",
   "metadata": {},
   "outputs": [
    {
     "name": "stdout",
     "output_type": "stream",
     "text": [
      "\n",
      "All columns except the last 3:\n",
      "                    Team  Goals  Shots on target  Shots off target  \\\n",
      "0               Croatia      4               13                12   \n",
      "1        Czech Republic      4               13                18   \n",
      "2               Denmark      4               10                10   \n",
      "3               England      5               11                18   \n",
      "4                France      3               22                24   \n",
      "5               Germany     10               32                32   \n",
      "6                Greece      5                8                18   \n",
      "7                 Italy      6               34                45   \n",
      "8           Netherlands      2               12                36   \n",
      "9                Poland      2               15                23   \n",
      "10             Portugal      6               22                42   \n",
      "11  Republic of Ireland      1                7                12   \n",
      "12               Russia      5                9                31   \n",
      "13                Spain     12               42                33   \n",
      "14               Sweden      5               17                19   \n",
      "15              Ukraine      2                7                26   \n",
      "\n",
      "   Shooting Accuracy % Goals-to-shots  Total shots (inc. Blocked)  \\\n",
      "0              51.9%            16.0%                          32   \n",
      "1              41.9%            12.9%                          39   \n",
      "2              50.0%            20.0%                          27   \n",
      "3              50.0%            17.2%                          40   \n",
      "4              37.9%             6.5%                          65   \n",
      "5              47.8%            15.6%                          80   \n",
      "6              30.7%            19.2%                          32   \n",
      "7              43.0%             7.5%                         110   \n",
      "8              25.0%             4.1%                          60   \n",
      "9              39.4%             5.2%                          48   \n",
      "10             34.3%             9.3%                          82   \n",
      "11             36.8%             5.2%                          28   \n",
      "12             22.5%            12.5%                          59   \n",
      "13             55.9%            16.0%                         100   \n",
      "14             47.2%            13.8%                          39   \n",
      "15             21.2%             6.0%                          38   \n",
      "\n",
      "    Hit Woodwork  Penalty goals  Penalties not scored  ...  Clean Sheets  \\\n",
      "0              0              0                     0  ...             0   \n",
      "1              0              0                     0  ...             1   \n",
      "2              1              0                     0  ...             1   \n",
      "3              0              0                     0  ...             2   \n",
      "4              1              0                     0  ...             1   \n",
      "5              2              1                     0  ...             1   \n",
      "6              1              1                     1  ...             1   \n",
      "7              2              0                     0  ...             2   \n",
      "8              2              0                     0  ...             0   \n",
      "9              0              0                     0  ...             0   \n",
      "10             6              0                     0  ...             2   \n",
      "11             0              0                     0  ...             0   \n",
      "12             2              0                     0  ...             0   \n",
      "13             0              1                     0  ...             5   \n",
      "14             3              0                     0  ...             1   \n",
      "15             0              0                     0  ...             0   \n",
      "\n",
      "    Blocks  Goals conceded Saves made  Saves-to-shots ratio  Fouls Won  \\\n",
      "0       10               3         13                 81.3%         41   \n",
      "1       10               6          9                 60.1%         53   \n",
      "2       10               5         10                 66.7%         25   \n",
      "3       29               3         22                 88.1%         43   \n",
      "4        7               5          6                 54.6%         36   \n",
      "5       11               6         10                 62.6%         63   \n",
      "6       23               7         13                 65.1%         67   \n",
      "7       18               7         20                 74.1%        101   \n",
      "8        9               5         12                 70.6%         35   \n",
      "9        8               3          6                 66.7%         48   \n",
      "10      11               4         10                 71.5%         73   \n",
      "11      23               9         17                 65.4%         43   \n",
      "12       8               3         10                 77.0%         34   \n",
      "13       8               1         15                 93.8%        102   \n",
      "14      12               5          8                 61.6%         35   \n",
      "15       4               4         13                 76.5%         48   \n",
      "\n",
      "    Fouls Conceded  Offsides  Yellow Cards  Red Cards  \n",
      "0               62         2             9          0  \n",
      "1               73         8             7          0  \n",
      "2               38         8             4          0  \n",
      "3               45         6             5          0  \n",
      "4               51         5             6          0  \n",
      "5               49        12             4          0  \n",
      "6               48        12             9          1  \n",
      "7               89        16            16          0  \n",
      "8               30         3             5          0  \n",
      "9               56         3             7          1  \n",
      "10              90        10            12          0  \n",
      "11              51        11             6          1  \n",
      "12              43         4             6          0  \n",
      "13              83        19            11          0  \n",
      "14              51         7             7          0  \n",
      "15              31         4             5          0  \n",
      "\n",
      "[16 rows x 32 columns]\n"
     ]
    }
   ],
   "source": [
    "# Step 13: Select all columns except the last 3\n",
    "all_except_last_3 = euro12.iloc[:, :-3]\n",
    "print(\"\\nAll columns except the last 3:\\n\", all_except_last_3)"
   ]
  },
  {
   "cell_type": "code",
   "execution_count": 32,
   "id": "6cb9b86e-64c5-4985-95da-887e9615de4b",
   "metadata": {},
   "outputs": [
    {
     "name": "stdout",
     "output_type": "stream",
     "text": [
      "\n",
      "Shooting Accuracy of England, Italy, and Russia:\n",
      "        Team Shooting Accuracy\n",
      "3   England             50.0%\n",
      "7     Italy             43.0%\n",
      "12   Russia             22.5%\n"
     ]
    }
   ],
   "source": [
    "# Step 14: Present only the Shooting Accuracy from England, Italy, and Russia\n",
    "shooting_accuracy = euro12[euro12['Team'].isin(['England', 'Italy', 'Russia'])][['Team', 'Shooting Accuracy']]\n",
    "print(\"\\nShooting Accuracy of England, Italy, and Russia:\\n\", shooting_accuracy)"
   ]
  },
  {
   "cell_type": "code",
   "execution_count": null,
   "id": "24af2341-7b92-46b2-bbc2-08876db38d84",
   "metadata": {},
   "outputs": [],
   "source": [
    "Question 3"
   ]
  },
  {
   "cell_type": "code",
   "execution_count": 33,
   "id": "efac3dec-c879-4908-a047-1d8ba8086f3f",
   "metadata": {},
   "outputs": [],
   "source": [
    "#Step 1. Import the necessary libraries\n",
    "import pandas as pd\n",
    "import numpy as np"
   ]
  },
  {
   "cell_type": "code",
   "execution_count": 34,
   "id": "429913ca-7615-41d8-a242-db99e782cdb1",
   "metadata": {},
   "outputs": [],
   "source": [
    "# Step 2: Create 3 different Series\n",
    "# Random numbers from 1 to 4\n",
    "series1 = pd.Series(np.random.randint(1, 5, size=100))\n",
    "\n",
    "# Random numbers from 1 to 3\n",
    "series2 = pd.Series(np.random.randint(1, 4, size=100))\n",
    "\n",
    "# Random numbers from 10,000 to 30,000\n",
    "series3 = pd.Series(np.random.randint(10000, 30001, size=100))"
   ]
  },
  {
   "cell_type": "code",
   "execution_count": 35,
   "id": "93ed3dac-bc40-4f6e-b2e1-9a97c6e97222",
   "metadata": {},
   "outputs": [],
   "source": [
    "# Step 3: Create a DataFrame by joining the Series by column\n",
    "df = pd.concat([series1, series2, series3], axis=1)"
   ]
  },
  {
   "cell_type": "code",
   "execution_count": 36,
   "id": "3c0db996-1bb0-4a0e-83ef-4acd33cd12ea",
   "metadata": {},
   "outputs": [
    {
     "name": "stdout",
     "output_type": "stream",
     "text": [
      "DataFrame with renamed columns:\n",
      "    bedrs  bathrs  price_sqr_meter\n",
      "0      4       2            25657\n",
      "1      3       3            23684\n",
      "2      1       1            21236\n",
      "3      4       1            22410\n",
      "4      4       1            21931\n"
     ]
    }
   ],
   "source": [
    "# Step 4: Change the name of the columns to 'bedrs', 'bathrs', 'price_sqr_meter'\n",
    "df.columns = ['bedrs', 'bathrs', 'price_sqr_meter']\n",
    "print(\"DataFrame with renamed columns:\\n\", df.head())"
   ]
  },
  {
   "cell_type": "code",
   "execution_count": 41,
   "id": "27969e18-bac6-4b26-9814-53d8f28525cd",
   "metadata": {},
   "outputs": [
    {
     "name": "stdout",
     "output_type": "stream",
     "text": [
      "\n",
      "Bigcolumn DataFrame:\n",
      "      bigcolumn\n",
      "0            4\n",
      "1            3\n",
      "2            1\n",
      "3            4\n",
      "4            4\n",
      "..         ...\n",
      "295      20644\n",
      "296      27294\n",
      "297      19076\n",
      "298      11585\n",
      "299      25013\n",
      "\n",
      "[300 rows x 1 columns]\n"
     ]
    }
   ],
   "source": [
    "# Step 5: Create a one-column DataFrame with the values of the 3 Series and assign it to 'bigcolumn'\n",
    "bigcolumn = pd.concat([series1, series2, series3], axis=0).reset_index(drop=True)\n",
    "bigcolumn_df = bigcolumn.to_frame(name='bigcolumn')\n",
    "print(\"\\nBigcolumn DataFrame:\\n\", bigcolumn_df)"
   ]
  },
  {
   "cell_type": "code",
   "execution_count": 44,
   "id": "1dcfd04b-43e6-4827-9934-4843d46518bc",
   "metadata": {},
   "outputs": [
    {
     "name": "stdout",
     "output_type": "stream",
     "text": [
      "\n",
      "Does it go only until index 99? Length of bigcolumn: 300 | True or False: False\n"
     ]
    }
   ],
   "source": [
    "# Step 6: Verify if it only goes until index 99\n",
    "print(\"\\nDoes it go only until index 99? Length of bigcolumn:\", len(bigcolumn_df), \n",
    "      \"| True or False:\", len(bigcolumn_df) == 100)\n"
   ]
  },
  {
   "cell_type": "code",
   "execution_count": 45,
   "id": "754d502d-ca11-4876-a76b-fb526673356c",
   "metadata": {},
   "outputs": [
    {
     "name": "stdout",
     "output_type": "stream",
     "text": [
      "\n",
      "Reindexed DataFrame:\n",
      "      bigcolumn\n",
      "0            4\n",
      "1            3\n",
      "2            1\n",
      "3            4\n",
      "4            4\n",
      "..         ...\n",
      "295      20644\n",
      "296      27294\n",
      "297      19076\n",
      "298      11585\n",
      "299      25013\n",
      "\n",
      "[300 rows x 1 columns]\n"
     ]
    }
   ],
   "source": [
    "# Step 7: Reindex the DataFrame so it goes from 0 to 299\n",
    "bigcolumn_df_reindexed = bigcolumn_df.reindex(range(300))\n",
    "print(\"\\nReindexed DataFrame:\\n\", bigcolumn_df_reindexed)"
   ]
  },
  {
   "cell_type": "code",
   "execution_count": null,
   "id": "b8c5db3f-87b8-411d-968a-a75971a8f262",
   "metadata": {},
   "outputs": [],
   "source": [
    "Question 4"
   ]
  },
  {
   "cell_type": "code",
   "execution_count": 52,
   "id": "25ad0064-5066-482b-9ced-f2c0392f7f34",
   "metadata": {},
   "outputs": [],
   "source": [
    "# Step 1: Import the necessary libraries\n",
    "import pandas as pd\n",
    "import numpy as np"
   ]
  },
  {
   "cell_type": "code",
   "execution_count": 54,
   "id": "7e894f48-fc82-428c-b7a6-0eea7076f1fd",
   "metadata": {},
   "outputs": [],
   "source": [
    "# Step 2: Import the dataset from the attached file 'wind.txt'\n",
    "data = pd.read_csv(r\"C:\\Users\\Nithin\\anaconda3\\PS3\\wind.txt\", sep=r'\\s+')"
   ]
  },
  {
   "cell_type": "code",
   "execution_count": 55,
   "id": "b14ba5c6-b47f-489d-8fe8-1e3f40f74bf5",
   "metadata": {},
   "outputs": [],
   "source": [
    "#Step 3: Assign it to a variable called 'data' and replace the first 3 columns by a proper datetime index\n",
    "data['datetime'] = pd.to_datetime({'year': 1900 + data['Yr'], 'month': data['Mo'], 'day': data['Dy']})\n",
    "data = data.drop(['Yr', 'Mo', 'Dy'], axis=1).set_index('datetime')"
   ]
  },
  {
   "cell_type": "code",
   "execution_count": 60,
   "id": "b94736b3-d501-472c-80cf-f5aa47cced5e",
   "metadata": {},
   "outputs": [],
   "source": [
    "# Step 4: Year 2061? Fix it by creating and applying a function\n",
    "def fix_year(x):\n",
    "    if x.year > 1989:\n",
    "        return x.replace(year=x.year - 100)\n",
    "    else:\n",
    "        return x\n",
    "data.index = data.index.map(fix_year)\n"
   ]
  },
  {
   "cell_type": "code",
   "execution_count": 63,
   "id": "920191f3-6b33-4c8b-9ac0-8a5ea22c75d8",
   "metadata": {},
   "outputs": [
    {
     "name": "stdout",
     "output_type": "stream",
     "text": [
      "data type is: datetime64[ns]\n"
     ]
    }
   ],
   "source": [
    "# Step 5: Ensure the index is datetime64[ns]\n",
    "print(\"data type is:\", data.index.dtype)\n"
   ]
  },
  {
   "cell_type": "code",
   "execution_count": 64,
   "id": "da1adac7-1908-4515-be2f-2c50711971c1",
   "metadata": {},
   "outputs": [
    {
     "name": "stdout",
     "output_type": "stream",
     "text": [
      "\n",
      "Missing values per location:\n",
      " RPT    6\n",
      "VAL    3\n",
      "ROS    2\n",
      "KIL    5\n",
      "SHA    2\n",
      "BIR    0\n",
      "DUB    3\n",
      "CLA    2\n",
      "MUL    3\n",
      "CLO    1\n",
      "BEL    0\n",
      "MAL    4\n",
      "dtype: int64\n"
     ]
    }
   ],
   "source": [
    "# Step 6: Compute how many values are missing for each location\n",
    "missing_values = data.isnull().sum()\n",
    "print(\"\\nMissing values per location:\\n\", missing_values)"
   ]
  },
  {
   "cell_type": "code",
   "execution_count": 65,
   "id": "9495130a-e13a-4c5e-ac72-c940a7166981",
   "metadata": {},
   "outputs": [
    {
     "name": "stdout",
     "output_type": "stream",
     "text": [
      "\n",
      "Total non-missing values: 78857\n"
     ]
    }
   ],
   "source": [
    "# Step 7: Compute how many non-missing values there are in total\n",
    "non_missing_total = data.notnull().sum().sum()\n",
    "print(\"\\nTotal non-missing values:\", non_missing_total)"
   ]
  },
  {
   "cell_type": "code",
   "execution_count": 66,
   "id": "d3efb91b-97fc-44a6-891e-529b638c6713",
   "metadata": {},
   "outputs": [
    {
     "name": "stdout",
     "output_type": "stream",
     "text": [
      "\n",
      "Mean windspeed across all locations and times: 10.227982360836938\n"
     ]
    }
   ],
   "source": [
    "# Step 8: Calculate the mean windspeeds across all locations and all times\n",
    "mean_windspeed = data.mean().mean()\n",
    "print(\"\\nMean windspeed across all locations and times:\", mean_windspeed)"
   ]
  },
  {
   "cell_type": "code",
   "execution_count": 67,
   "id": "dd7d55bf-2fcb-4856-9788-6ea0bc14015d",
   "metadata": {},
   "outputs": [
    {
     "name": "stdout",
     "output_type": "stream",
     "text": [
      "\n",
      "Location statistics (min, max, mean, std):\n",
      "       min    max       mean       std\n",
      "RPT  0.67  35.80  12.362987  5.618413\n",
      "VAL  0.21  33.37  10.644314  5.267356\n",
      "ROS  1.50  33.84  11.660526  5.008450\n",
      "KIL  0.00  28.46   6.306468  3.605811\n",
      "SHA  0.13  37.54  10.455834  4.936125\n",
      "BIR  0.00  26.16   7.092254  3.968683\n",
      "DUB  0.00  30.37   9.797343  4.977555\n",
      "CLA  0.00  31.08   8.495053  4.499449\n",
      "MUL  0.00  25.88   8.493590  4.166872\n",
      "CLO  0.04  28.21   8.707332  4.503954\n",
      "BEL  0.13  42.38  13.121007  5.835037\n",
      "MAL  0.67  42.54  15.599079  6.699794\n"
     ]
    }
   ],
   "source": [
    "# Step 9: Create loc_stats with min, max, mean, and std for each location\n",
    "loc_stats = data.describe().T[['min', 'max', 'mean', 'std']]\n",
    "print(\"\\nLocation statistics (min, max, mean, std):\\n\", loc_stats)"
   ]
  },
  {
   "cell_type": "code",
   "execution_count": 68,
   "id": "db9515dd-21b4-43f5-8c0d-04e0ded4bfc4",
   "metadata": {},
   "outputs": [
    {
     "name": "stdout",
     "output_type": "stream",
     "text": [
      "\n",
      "Day statistics (min, max, mean, std):\n",
      "              min    max       mean       std\n",
      "datetime                                    \n",
      "1961-01-01  9.29  18.50  13.018182  2.808875\n",
      "1961-01-02  6.50  17.54  11.336364  3.188994\n",
      "1961-01-03  6.17  18.50  11.641818  3.681912\n",
      "1961-01-04  1.79  11.75   6.619167  3.198126\n",
      "1961-01-05  6.17  13.33  10.630000  2.445356\n"
     ]
    }
   ],
   "source": [
    "# Step 10: Create day_stats with min, max, mean, and std for each day across all locations\n",
    "day_stats = data.aggregate(['min', 'max', 'mean', 'std'], axis=1)\n",
    "print(\"\\nDay statistics (min, max, mean, std):\\n\", day_stats.head())\n"
   ]
  },
  {
   "cell_type": "code",
   "execution_count": 69,
   "id": "521e2026-55d1-4f5e-9d24-19d4ab4f66a5",
   "metadata": {},
   "outputs": [
    {
     "name": "stdout",
     "output_type": "stream",
     "text": [
      "\n",
      "Average windspeed in January per location:\n",
      " RPT    14.847325\n",
      "VAL    12.914560\n",
      "ROS    13.299624\n",
      "KIL     7.199498\n",
      "SHA    11.667734\n",
      "BIR     8.054839\n",
      "DUB    11.819355\n",
      "CLA     9.512047\n",
      "MUL     9.543208\n",
      "CLO    10.053566\n",
      "BEL    14.550520\n",
      "MAL    18.028763\n",
      "dtype: float64\n"
     ]
    }
   ],
   "source": [
    "# Step 11: Average windspeed in January for each location\n",
    "january_data = data[data.index.month == 1]\n",
    "january_avg = january_data.mean()\n",
    "print(\"\\nAverage windspeed in January per location:\\n\", january_avg)"
   ]
  },
  {
   "cell_type": "code",
   "execution_count": 71,
   "id": "eb943193-d51f-405f-9f5e-97a93177e39c",
   "metadata": {},
   "outputs": [
    {
     "name": "stdout",
     "output_type": "stream",
     "text": [
      "Yearly wind frequency:\n",
      "                   RPT        VAL        ROS       KIL        SHA       BIR  \\\n",
      "datetime                                                                     \n",
      "1961-01-01  12.299583  10.351796  11.362369  6.958227  10.881763  7.729726   \n",
      "1962-01-01  12.246923  10.110438  11.732712  6.960440  10.657918  7.393068   \n",
      "1963-01-01  12.813452  10.836986  12.541151  7.330055  11.724110  8.434712   \n",
      "1964-01-01  12.363661  10.920164  12.104372  6.787787  11.454481  7.570874   \n",
      "1965-01-01  12.451370  11.075534  11.848767  6.858466  11.024795  7.478110   \n",
      "1966-01-01  13.461973  11.557205  12.020630  7.345726  11.805041  7.793671   \n",
      "1967-01-01  12.737151  10.990986  11.739397  7.143425  11.630740  7.368164   \n",
      "1968-01-01  11.835628  10.468197  11.409754  6.477678  10.760765  6.067322   \n",
      "1969-01-01  11.166356   9.723699  10.902000  5.767973   9.873918  6.189973   \n",
      "1970-01-01  12.600329  10.726932  11.730247  6.217178  10.567370  7.609452   \n",
      "1971-01-01  11.273123   9.095178  11.088329  5.241507   9.440329  6.097151   \n",
      "1972-01-01  12.463962  10.561311  12.058333  5.929699   9.430410  6.358825   \n",
      "1973-01-01  11.828466  10.680493  10.680493  5.547863   9.640877  6.548740   \n",
      "1974-01-01  13.643096  11.811781  12.336356  6.427041  11.110986  6.809781   \n",
      "1975-01-01  12.008575  10.293836  11.564712  5.269096   9.190082  5.668521   \n",
      "1976-01-01  11.737842  10.203115  10.761230  5.109426   8.846339  6.311038   \n",
      "1977-01-01  13.099616  11.144493  12.627836  6.073945  10.003836  8.586438   \n",
      "1978-01-01  12.504356  11.044274  11.380000  6.082356  10.167233  7.650658   \n",
      "\n",
      "                  DUB        CLA       MUL        CLO        BEL        MAL  \n",
      "datetime                                                                     \n",
      "1961-01-01   9.733923   8.858788  8.647652   9.835577  13.502795  13.680773  \n",
      "1962-01-01  11.020712   8.793753  8.316822   9.676247  12.930685  14.323956  \n",
      "1963-01-01  11.075699  10.336548  8.903589  10.224438  13.638877  14.999014  \n",
      "1964-01-01  10.259153   9.467350  7.789016  10.207951  13.740546  14.910301  \n",
      "1965-01-01  10.618712   8.879918  7.907425   9.918082  12.964247  15.591644  \n",
      "1966-01-01  10.579808   8.835096  8.514438   9.768959  14.265836  16.307260  \n",
      "1967-01-01  10.652027   9.325616  8.645014   9.547425  14.774548  17.135945  \n",
      "1968-01-01   8.859180   8.255519  7.224945   7.832978  12.808634  15.017486  \n",
      "1969-01-01   8.564493   7.711397  7.924521   7.754384  12.621233  15.762904  \n",
      "1970-01-01   9.609890   8.334630  9.297616   8.289808  13.183644  16.456027  \n",
      "1971-01-01   8.385890   6.757315  7.915370   7.229753  12.208932  15.025233  \n",
      "1972-01-01   9.704508   7.680792  8.357295   7.515273  12.727377  15.028716  \n",
      "1973-01-01   8.482110   7.614274  8.245534   7.812411  12.169699  15.441096  \n",
      "1974-01-01  10.084603   9.896986  9.331753   8.736356  13.252959  16.947671  \n",
      "1975-01-01   8.562603   7.843836  8.797945   7.382822  12.631671  15.307863  \n",
      "1976-01-01   9.149126   7.146202  8.883716   7.883087  12.332377  15.471448  \n",
      "1977-01-01  11.523205   8.378384  9.098192   8.821616  13.459068  16.590849  \n",
      "1978-01-01   9.489342   8.800466  9.089753   8.301699  12.967397  16.771370  \n"
     ]
    }
   ],
   "source": [
    "# Step 12: Downsample to yearly frequency and calculate the mean\n",
    "yearly_wind_frequency = data.resample('YS').mean()\n",
    "print(\"Yearly wind frequency:\\n\", yearly_wind_frequency)\n"
   ]
  },
  {
   "cell_type": "code",
   "execution_count": 72,
   "id": "c76857de-d414-4308-afb0-79a9dfeba4e2",
   "metadata": {},
   "outputs": [
    {
     "name": "stdout",
     "output_type": "stream",
     "text": [
      "Monthly wind frequency:\n",
      "                   RPT        VAL        ROS       KIL        SHA        BIR  \\\n",
      "datetime                                                                      \n",
      "1961-01-01  14.841333  11.988333  13.431613  7.736774  11.072759   8.588065   \n",
      "1961-02-01  16.269286  14.975357  14.441481  9.230741  13.852143  10.937500   \n",
      "1961-03-01  10.890000  11.296452  10.752903  7.284000  10.509355   8.866774   \n",
      "1961-04-01  10.722667   9.427667   9.998000  5.830667   8.435000   6.495000   \n",
      "1961-05-01   9.860968   8.850000  10.818065  5.905333   9.490323   6.574839   \n",
      "...               ...        ...        ...       ...        ...        ...   \n",
      "1978-08-01   9.645161   8.259355   9.032258  4.502903   7.368065   5.935161   \n",
      "1978-09-01  10.913667  10.895000  10.635000  5.725000  10.372000   9.278333   \n",
      "1978-10-01   9.897742   8.670968   9.295806  4.721290   8.525161   6.774194   \n",
      "1978-11-01  16.151667  14.802667  13.508000  7.317333  11.475000   8.743000   \n",
      "1978-12-01  16.175484  13.748065  15.635161  7.094839  11.398710   9.241613   \n",
      "\n",
      "                  DUB        CLA        MUL        CLO        BEL        MAL  \n",
      "datetime                                                                      \n",
      "1961-01-01  11.184839   9.245333   9.085806  10.107419  13.880968  14.703226  \n",
      "1961-02-01  11.890714  11.846071  11.821429  12.714286  18.583214  15.411786  \n",
      "1961-03-01   9.644194   9.829677  10.294138  11.251935  16.410968  15.720000  \n",
      "1961-04-01   6.925333   7.094667   7.342333   7.237000  11.147333  10.278333  \n",
      "1961-05-01   7.604000   8.177097   8.039355   8.499355  11.900323  12.011613  \n",
      "...               ...        ...        ...        ...        ...        ...  \n",
      "1978-08-01   5.650323   5.417742   7.241290   5.536774  10.466774  12.054194  \n",
      "1978-09-01  10.790333   9.583000  10.069333   8.939000  15.680333  19.391333  \n",
      "1978-10-01   8.115484   7.337742   8.297742   8.243871  13.776774  17.150000  \n",
      "1978-11-01  11.492333   9.657333  10.701333  10.676000  17.404667  20.723000  \n",
      "1978-12-01  12.077419  10.194839  10.616774  11.028710  13.859677  21.371613  \n",
      "\n",
      "[216 rows x 12 columns]\n"
     ]
    }
   ],
   "source": [
    "# Step 13: Downsample to monthly frequency and calculate the mean\n",
    "monthly_wind_frequency = data.resample('MS').mean()\n",
    "print(\"Monthly wind frequency:\\n\", monthly_wind_frequency)\n"
   ]
  },
  {
   "cell_type": "code",
   "execution_count": 73,
   "id": "ec052c29-afe6-4c9e-88b6-f6a50ae5ff5e",
   "metadata": {},
   "outputs": [
    {
     "name": "stdout",
     "output_type": "stream",
     "text": [
      "Weekly wind frequency:\n",
      "                   RPT        VAL        ROS        KIL        SHA        BIR  \\\n",
      "datetime                                                                       \n",
      "1961-01-01  15.040000  14.960000  13.170000   9.290000        NaN   9.870000   \n",
      "1961-01-08  13.541429  11.486667  10.487143   6.417143   9.474286   6.435714   \n",
      "1961-01-15  12.468571   8.967143  11.958571   4.630000   7.351429   5.072857   \n",
      "1961-01-22  13.204286   9.862857  12.982857   6.328571   8.966667   7.417143   \n",
      "1961-01-29  19.880000  16.141429  18.225714  12.720000  17.432857  14.828571   \n",
      "...               ...        ...        ...        ...        ...        ...   \n",
      "1978-12-03  14.934286  11.232857  13.941429   5.565714  10.215714   8.618571   \n",
      "1978-12-10  20.740000  19.190000  17.034286   9.777143  15.287143  12.774286   \n",
      "1978-12-17  16.758571  14.692857  14.987143   6.917143  11.397143   7.272857   \n",
      "1978-12-24  11.155714   8.008571  13.172857   4.004286   7.825714   6.290000   \n",
      "1978-12-31  14.951429  11.801429  16.035714   6.507143   9.660000   8.620000   \n",
      "\n",
      "                  DUB        CLA        MUL        CLO        BEL        MAL  \n",
      "datetime                                                                      \n",
      "1961-01-01  13.670000  10.250000  10.830000  12.580000  18.500000  15.040000  \n",
      "1961-01-08  11.061429   6.616667   8.434286   8.497143  12.481429  13.238571  \n",
      "1961-01-15   7.535714   6.820000   5.712857   7.571429  11.125714  11.024286  \n",
      "1961-01-22   9.257143   7.875714   7.145714   8.124286   9.821429  11.434286  \n",
      "1961-01-29  15.528571  15.160000  14.480000  15.640000  20.930000  22.530000  \n",
      "...               ...        ...        ...        ...        ...        ...  \n",
      "1978-12-03   9.642857   7.685714   9.011429   9.547143  11.835714  18.728571  \n",
      "1978-12-10  14.437143  12.488571  13.870000  14.082857  18.517143  23.061429  \n",
      "1978-12-17  10.208571   7.967143   9.168571   8.565714  11.102857  15.562857  \n",
      "1978-12-24   7.798571   8.667143   7.151429   8.072857  11.845714  18.977143  \n",
      "1978-12-31  13.708571  10.477143  10.868571  11.471429  12.947143  26.844286  \n",
      "\n",
      "[940 rows x 12 columns]\n"
     ]
    }
   ],
   "source": [
    "# Step 14: Downsample to weekly frequency and calculate the mean\n",
    "weekly_wind_frequency = data.resample('W-SUN').mean()\n",
    "print(\"Weekly wind frequency:\\n\", weekly_wind_frequency)\n"
   ]
  },
  {
   "cell_type": "code",
   "execution_count": 74,
   "id": "fe7cff11-5674-4bbb-b172-e700d8af5c03",
   "metadata": {},
   "outputs": [
    {
     "name": "stdout",
     "output_type": "stream",
     "text": [
      "Weekly statistics (first 52 weeks):\n",
      "               RPT                                VAL                    \\\n",
      "              min    max       mean       std    min    max       mean   \n",
      "datetime                                                                 \n",
      "1961-01-01  15.04  15.04  15.040000       NaN  14.96  14.96  14.960000   \n",
      "1961-01-08  10.58  18.50  13.541429  2.631321   6.63  16.88  11.486667   \n",
      "1961-01-15   9.04  19.75  12.468571  3.555392   3.54  12.08   8.967143   \n",
      "1961-01-22   4.92  19.83  13.204286  5.337402   3.42  14.37   9.862857   \n",
      "1961-01-29  13.62  25.04  19.880000  4.619061   9.96  23.91  16.141429   \n",
      "1961-02-05  10.58  24.21  16.827143  5.251408   9.46  24.21  15.460000   \n",
      "1961-02-12  16.00  24.54  19.684286  3.587677  11.54  21.42  16.417143   \n",
      "1961-02-19   6.04  22.50  15.130000  5.064609  11.63  20.17  15.091429   \n",
      "1961-02-26   7.79  25.80  15.221429  7.020716   7.08  21.50  13.625714   \n",
      "1961-03-05  10.96  13.33  12.101429  0.997721   8.83  17.00  12.951429   \n",
      "1961-03-12   4.88  14.79   9.376667  3.732263   8.08  16.96  11.578571   \n",
      "1961-03-19   4.92  16.88  11.911429  3.860036   9.46  15.54  13.501429   \n",
      "1961-03-26   6.29  15.00   9.567143  3.613298   2.58  11.63   8.387143   \n",
      "1961-04-02   5.88  18.25  10.757143  5.046922   3.50  16.29   8.852857   \n",
      "1961-04-09   4.50  18.12  11.964286  4.604392   7.04  14.62  10.654286   \n",
      "1961-04-16   4.71  15.50   8.965714  3.937727   4.83  12.25   8.000000   \n",
      "1961-04-23   4.00  21.09  12.621429  5.676655   3.71  15.41  10.438571   \n",
      "1961-04-30   4.08  16.29  10.117143  4.349662   6.50  14.46   9.798571   \n",
      "1961-05-07   9.87  23.00  15.367143  5.025507  10.29  19.79  13.970000   \n",
      "1961-05-14   3.54  12.79   7.772857  3.371022   3.96  15.12   8.712857   \n",
      "1961-05-21   4.88  15.04   8.225714  3.631730   3.58  10.17   5.631667   \n",
      "1961-05-28   4.96  11.79   8.155714  2.739433   3.67  12.50   7.388571   \n",
      "1961-06-04   7.00  15.92  10.321429  3.099701   4.75   9.79   7.407143   \n",
      "1961-06-11   8.29  14.42  10.917143  2.248597   6.83  11.54   8.992857   \n",
      "1961-06-18   6.13  14.33  10.571429  3.009482   4.12  14.54   9.565714   \n",
      "1961-06-25   4.00   9.00   7.345714  1.982035   3.25   9.50   6.108571   \n",
      "1961-07-02   7.21  13.13  10.236667  2.557856   6.34  14.37   9.482857   \n",
      "1961-07-09   7.29  17.50  11.715714  3.664855   3.75  10.75   7.220000   \n",
      "1961-07-16   8.63  22.50  16.680000  5.168710   7.87  19.29  13.518571   \n",
      "1961-07-23   3.04   5.88   4.202857  1.047978   2.92   6.79   4.255714   \n",
      "1961-07-30   6.13  16.08  10.561429  4.157641   4.63  13.79   8.445714   \n",
      "1961-08-06   7.67  16.08  10.870000  2.950887   5.09  15.79   8.792857   \n",
      "1961-08-13   2.88  14.21  10.058333  4.422268   4.42  10.00   7.941429   \n",
      "1961-08-20  13.13  18.91  15.607143  2.283635   7.25  13.62  10.565714   \n",
      "1961-08-27   7.67  18.16  12.391429  3.395857   6.87  14.58  11.430000   \n",
      "1961-09-03   3.63  14.46   8.678571  4.398615   1.13  22.00   8.821429   \n",
      "1961-09-10   5.00  17.62  10.541429  5.207278   3.04  13.59   8.798571   \n",
      "1961-09-17   5.33  28.75  17.160000  7.679190   7.12  22.08  14.440000   \n",
      "1961-09-24   6.92  10.25   8.500000  1.267399   2.92  13.62   7.154286   \n",
      "1961-10-01  10.34  23.21  16.044286  4.559572   6.96  13.62  11.361667   \n",
      "1961-10-08   3.13  16.08  11.250000  5.596710   3.63  16.96   8.757143   \n",
      "1961-10-15   3.71  17.12  10.881667  4.780675   6.13  13.25   9.734286   \n",
      "1961-10-22  10.46  28.62  19.260000  7.888314   3.75  19.46  13.364286   \n",
      "1961-10-29   4.33  26.42  16.077143  7.957637   2.75  21.25  11.867143   \n",
      "1961-11-05   5.88  15.79  11.571429  3.369201   3.96  13.46   9.590000   \n",
      "1961-11-12   5.46  16.08  10.428571  3.939811   5.50  10.75   7.690000   \n",
      "1961-11-19   7.50  15.00  10.798571  2.784358   4.21  13.00   7.951429   \n",
      "1961-11-26   5.75  14.29   9.154286  3.214368   3.29  11.79   7.337143   \n",
      "1961-12-03   7.92  23.75  12.608571  5.704669   4.67  18.71  10.442857   \n",
      "1961-12-10  10.83  23.71  17.362857  4.890152   9.21  21.37  14.362857   \n",
      "1961-12-17   9.29  21.34  14.985714  4.095106   8.63  17.62  13.472857   \n",
      "1961-12-24  11.46  24.41  15.757143  4.959717   9.79  16.13  11.971429   \n",
      "\n",
      "                        ROS         ...        CLO              BEL         \\\n",
      "                 std    min    max  ...       mean       std    min    max   \n",
      "datetime                            ...                                      \n",
      "1961-01-01       NaN  13.17  13.17  ...  12.580000       NaN  18.50  18.50   \n",
      "1961-01-08  3.949525   7.62  12.33  ...   8.497143  1.704941   5.46  17.54   \n",
      "1961-01-15  3.148945   7.08  19.50  ...   7.571429  4.084293   5.25  20.71   \n",
      "1961-01-22  3.837785   7.29  20.79  ...   8.124286  4.783952   6.50  15.92   \n",
      "1961-01-29  5.170224  12.67  25.84  ...  15.640000  3.713368  14.04  27.71   \n",
      "1961-02-05  5.187395   9.04  19.70  ...   9.460000  2.839501   9.17  19.33   \n",
      "1961-02-12  3.608373  13.67  21.34  ...  14.440000  1.746749  15.21  26.38   \n",
      "1961-02-19  3.575012   6.13  19.41  ...  13.542857  2.531361  14.09  29.63   \n",
      "1961-02-26  5.147348   6.08  22.42  ...  12.730000  4.920064   9.59  23.21   \n",
      "1961-03-05  2.851955   8.17  13.67  ...  12.370000  1.593685  11.58  23.45   \n",
      "1961-03-12  3.230167   7.54  16.38  ...  10.458571  3.655113  10.21  22.71   \n",
      "1961-03-19  2.352867   5.25  13.96  ...  11.627143  3.099472  11.29  22.79   \n",
      "1961-03-26  3.657265   4.79  15.63  ...  11.481429  2.538224   8.25  21.34   \n",
      "1961-04-02  4.687315   5.09  14.96  ...   9.631429  3.191115   7.21  18.63   \n",
      "1961-04-09  2.845399   9.29  18.29  ...   7.238571  2.336182   7.62  17.16   \n",
      "1961-04-16  2.607118   3.92  15.79  ...   6.178571  2.161137   5.75  16.17   \n",
      "1961-04-23  4.631736   3.33  17.00  ...   9.551429  3.347972   6.75  19.21   \n",
      "1961-04-30  2.871425   2.54  14.96  ...   6.124286  2.840568   5.13  13.04   \n",
      "1961-05-07  3.750835   8.42  21.21  ...  11.585714  3.620819   4.79  28.08   \n",
      "1961-05-14  3.782947   4.63  12.33  ...   7.822857  5.460237   6.54  18.66   \n",
      "1961-05-21  2.468906   5.91  15.96  ...   7.114286  2.216889   6.63  12.00   \n",
      "1961-05-28  3.378537   3.58  20.96  ...   7.535714  2.575661   6.13  14.33   \n",
      "1961-06-04  1.868125   6.83  15.96  ...   9.035714  2.096989   8.71  17.00   \n",
      "1961-06-11  1.524836   6.04  11.58  ...   8.397143  2.158323   5.37  16.17   \n",
      "1961-06-18  3.509444   6.50  15.50  ...   9.594286  3.792400   7.29  25.25   \n",
      "1961-06-25  2.212460   5.13  10.37  ...  11.257143  2.286218  11.00  19.08   \n",
      "1961-07-02  2.902411   7.62  10.79  ...  10.268571  1.564144   6.96  21.87   \n",
      "1961-07-09  2.686658   7.41  14.92  ...  10.547143  3.657179   7.08  20.41   \n",
      "1961-07-16  3.849630   8.00  14.29  ...  10.157143  3.271899   5.04  20.25   \n",
      "1961-07-23  1.400010   4.08  12.67  ...   6.041429  1.439785   4.21  10.13   \n",
      "1961-07-30  3.203206   6.42  15.67  ...   9.470000  4.350268   7.87  22.17   \n",
      "1961-08-06  3.985226   5.54  15.59  ...   8.951429  2.903018   6.17  18.54   \n",
      "1961-08-13  2.053326   6.00  11.63  ...   7.235000  2.073777   5.88  14.29   \n",
      "1961-08-20  2.523416   9.17  14.04  ...  12.244286  2.730237   9.59  21.92   \n",
      "1961-08-27  3.174702   9.50  17.83  ...  12.507143  3.855302   5.75  23.38   \n",
      "1961-09-03  7.474025   2.42  12.75  ...   8.924286  3.993736   4.79  24.71   \n",
      "1961-09-10  4.003996   3.63  14.88  ...   7.565714  3.649278   5.41  15.83   \n",
      "1961-09-17  5.360585   7.29  26.50  ...  14.268571  5.128338  13.92  23.91   \n",
      "1961-09-24  3.445262   5.33  12.17  ...   6.798571  2.354092   4.54  20.96   \n",
      "1961-10-01  2.812482   7.87  17.58  ...  11.840000  3.908397   7.79  21.37   \n",
      "1961-10-08  5.060803   4.96  17.83  ...   7.662857  4.296870   4.79  17.83   \n",
      "1961-10-15  2.707483   4.21  20.96  ...   9.494286  3.569308   8.54  20.46   \n",
      "1961-10-22  5.998199   9.92  22.63  ...  16.461429  5.890511  10.88  24.71   \n",
      "1961-10-29  6.879973   4.79  23.09  ...  12.952857  6.277629   8.50  27.29   \n",
      "1961-11-05  3.900278   6.54  14.33  ...  11.864286  2.784450  10.29  20.17   \n",
      "1961-11-12  2.141191   3.83  20.41  ...   6.415714  2.843518   6.13  12.58   \n",
      "1961-11-19  3.208548   6.46  32.71  ...   6.031429  4.402588   0.71   9.59   \n",
      "1961-11-26  3.277904   4.42  14.46  ...   9.582857  2.747452   6.50  20.46   \n",
      "1961-12-03  5.107089   8.00  19.92  ...   7.911429  3.680477   5.50  19.04   \n",
      "1961-12-10  4.115506   9.71  20.54  ...  12.022857  4.156207  10.71  21.79   \n",
      "1961-12-17  3.587886   9.04  19.00  ...  11.058571  4.633398   5.50  22.83   \n",
      "1961-12-24  2.220866   8.08  22.13  ...   7.697143  4.637096   5.29  17.67   \n",
      "\n",
      "                                   MAL                              \n",
      "                 mean       std    min    max       mean       std  \n",
      "datetime                                                            \n",
      "1961-01-01  18.500000       NaN  15.04  15.04  15.040000       NaN  \n",
      "1961-01-08  12.481429  4.349139  10.88  16.46  13.238571  1.773062  \n",
      "1961-01-15  11.125714  5.552215   5.17  16.92  11.024286  4.692355  \n",
      "1961-01-22   9.821429  3.626584   6.79  17.96  11.434286  4.237239  \n",
      "1961-01-29  20.930000  5.210726  17.50  27.63  22.530000  3.874721  \n",
      "1961-02-05  14.012857  4.210858   7.17  19.25  11.935714  4.336104  \n",
      "1961-02-12  21.832857  4.063753  17.04  21.84  19.155714  1.828705  \n",
      "1961-02-19  21.167143  5.910938  10.96  22.58  16.584286  4.685377  \n",
      "1961-02-26  16.304286  5.091162   6.67  23.87  14.322857  6.182283  \n",
      "1961-03-05  17.842857  4.332331   8.83  17.54  13.951667  3.021387  \n",
      "1961-03-12  16.701429  4.358759   5.54  22.54  14.420000  5.769890  \n",
      "1961-03-19  19.350000  3.779727  11.34  22.95  16.227143  4.331958  \n",
      "1961-03-26  14.037143  4.318069  13.13  22.50  18.134286  3.701846  \n",
      "1961-04-02  13.471429  4.179854   7.17  19.58  13.900000  3.924555  \n",
      "1961-04-09  11.712857  3.147781   7.21  15.34  11.371429  2.598271  \n",
      "1961-04-16   9.482857  3.641464   5.66  12.87   8.690000  2.747842  \n",
      "1961-04-23  13.620000  4.735096   4.96  20.46  12.470000  5.908542  \n",
      "1961-04-30   9.720000  2.948237   2.67  17.50   8.637143  5.108365  \n",
      "1961-05-07  17.548571  8.003490   3.83  26.58  14.571429  7.728504  \n",
      "1961-05-14  10.421429  3.968272   3.33  26.30  10.382857  7.858246  \n",
      "1961-05-21   9.624286  1.975853   5.91  14.96  10.612857  3.310819  \n",
      "1961-05-28  10.518571  3.024524   8.00  17.04  11.697143  3.811818  \n",
      "1961-06-04  12.298571  2.611139  10.63  17.96  13.597143  2.593586  \n",
      "1961-06-11  10.148571  3.993062   5.96  19.83  12.250000  4.925055  \n",
      "1961-06-18  15.351429  6.477887   6.13  24.71  15.025714  6.242673  \n",
      "1961-06-25  14.370000  2.498386  13.75  21.50  17.410000  3.063011  \n",
      "1961-07-02  14.535714  6.303747   8.50  16.79  12.133333  3.652313  \n",
      "1961-07-09  12.220000  4.537988  12.08  21.29  15.987143  3.665705  \n",
      "1961-07-16  13.520000  4.971060   5.96  21.96  12.524286  4.974273  \n",
      "1961-07-23   7.524286  2.050218   5.41  10.92   8.415714  2.133994  \n",
      "1961-07-30  12.841429  5.580903   6.13  25.37  13.761429  6.664574  \n",
      "1961-08-06  11.595714  4.901377   9.08  20.25  13.760000  4.448251  \n",
      "1961-08-13  10.934286  2.931302   5.88  15.16  10.125714  3.356585  \n",
      "1961-08-20  14.922857  4.086725  13.04  24.30  16.626667  3.934238  \n",
      "1961-08-27  16.251429  6.711322   8.29  22.29  16.485714  4.947608  \n",
      "1961-09-03  13.664286  7.678051   5.41  22.54  11.022857  6.308087  \n",
      "1961-09-10  10.700000  4.220584   3.37  20.25  11.034286  6.049619  \n",
      "1961-09-17  19.878571  4.464252  14.67  33.09  18.984286  6.332885  \n",
      "1961-09-24  11.018571  5.235868   5.25  14.62   9.814286  3.113507  \n",
      "1961-10-01  16.208571  5.091268   4.04  17.16  13.338571  4.696504  \n",
      "1961-10-08   8.810000  4.800403   4.83  19.62  11.410000  5.462002  \n",
      "1961-10-15  14.451429  4.113200  10.75  21.04  15.260000  4.098130  \n",
      "1961-10-22  17.477143  5.645871  13.46  33.45  23.641429  7.468377  \n",
      "1961-10-29  15.592857  7.056150   9.83  30.88  18.404286  8.340881  \n",
      "1961-11-05  16.322857  4.038493  13.37  23.58  19.195714  3.870800  \n",
      "1961-11-12   9.208571  2.532196   5.71  15.54  10.858571  3.690752  \n",
      "1961-11-19   5.875714  3.643285   2.00  13.25   5.737143  3.787654  \n",
      "1961-11-26  11.772857  5.407223   4.25  22.58  12.732857  6.475867  \n",
      "1961-12-03  11.464286  5.552648   5.88  21.29  14.725714  5.233192  \n",
      "1961-12-10  15.975714  4.667933   7.58  29.33  16.241429  7.345893  \n",
      "1961-12-17  15.112857  6.531043   6.50  21.12  14.644286  5.665006  \n",
      "1961-12-24   9.958571  5.065308   2.62  16.62   8.164286  5.048035  \n",
      "\n",
      "[52 rows x 48 columns]\n"
     ]
    }
   ],
   "source": [
    "# Step 15: Calculate statistics for the first 52 weeks\n",
    "weekly_statistics = data.resample('W-SUN').agg(['min', 'max', 'mean', 'std']).iloc[:52]\n",
    "print(\"Weekly statistics (first 52 weeks):\\n\", weekly_statistics)\n"
   ]
  },
  {
   "cell_type": "code",
   "execution_count": null,
   "id": "0c3ac9ee-c189-4533-aafd-de2c9cfc10e3",
   "metadata": {},
   "outputs": [],
   "source": [
    "Question 5"
   ]
  },
  {
   "cell_type": "code",
   "execution_count": 75,
   "id": "86472d00-227a-4424-8f81-d690907485af",
   "metadata": {},
   "outputs": [],
   "source": [
    "# Step 1: Import the necessary libraries\n",
    "import numpy as np\n",
    "import pandas as pd"
   ]
  },
  {
   "cell_type": "code",
   "execution_count": 91,
   "id": "134f931c-3d8a-46fc-b648-a15b2ca35bba",
   "metadata": {},
   "outputs": [],
   "source": [
    "# Step 2: Import the dataset from the given address\n",
    "url = \"https://raw.githubusercontent.com/justmarkham/DAT8/master/data/chipotle.tsv\""
   ]
  },
  {
   "cell_type": "code",
   "execution_count": 92,
   "id": "a6922725-e369-41da-b419-741aeaf11b19",
   "metadata": {},
   "outputs": [
    {
     "name": "stdout",
     "output_type": "stream",
     "text": [
      "Dataset successfully loaded!\n"
     ]
    }
   ],
   "source": [
    "# Step 3: Assign it to a variable called chipo\n",
    "chipo = pd.read_csv(url, sep='\\t')\n",
    "print(\"Dataset successfully loaded!\")"
   ]
  },
  {
   "cell_type": "code",
   "execution_count": 93,
   "id": "3479f9ee-00bd-43b5-81cd-b49f07678a19",
   "metadata": {},
   "outputs": [
    {
     "name": "stdout",
     "output_type": "stream",
     "text": [
      "First 10 entries of dataset \n",
      "    order_id  quantity                              item_name  \\\n",
      "0         1         1           Chips and Fresh Tomato Salsa   \n",
      "1         1         1                                   Izze   \n",
      "2         1         1                       Nantucket Nectar   \n",
      "3         1         1  Chips and Tomatillo-Green Chili Salsa   \n",
      "4         2         2                           Chicken Bowl   \n",
      "5         3         1                           Chicken Bowl   \n",
      "6         3         1                          Side of Chips   \n",
      "7         4         1                          Steak Burrito   \n",
      "8         4         1                       Steak Soft Tacos   \n",
      "9         5         1                          Steak Burrito   \n",
      "\n",
      "                                  choice_description item_price  \n",
      "0                                                NaN     $2.39   \n",
      "1                                       [Clementine]     $3.39   \n",
      "2                                            [Apple]     $3.39   \n",
      "3                                                NaN     $2.39   \n",
      "4  [Tomatillo-Red Chili Salsa (Hot), [Black Beans...    $16.98   \n",
      "5  [Fresh Tomato Salsa (Mild), [Rice, Cheese, Sou...    $10.98   \n",
      "6                                                NaN     $1.69   \n",
      "7  [Tomatillo Red Chili Salsa, [Fajita Vegetables...    $11.75   \n",
      "8  [Tomatillo Green Chili Salsa, [Pinto Beans, Ch...     $9.25   \n",
      "9  [Fresh Tomato Salsa, [Rice, Black Beans, Pinto...     $9.25   \n"
     ]
    }
   ],
   "source": [
    "# Step 4: See the first 10 entries\n",
    "print(\"First 10 entries of dataset \\n\", chipo.head(10))"
   ]
  },
  {
   "cell_type": "code",
   "execution_count": 90,
   "id": "6d3a9631-ca59-45b0-b8bd-230f8a6d55d3",
   "metadata": {},
   "outputs": [
    {
     "name": "stdout",
     "output_type": "stream",
     "text": [
      "Number of observations in the dataset 4622\n"
     ]
    }
   ],
   "source": [
    "# Step 5: What is the number of observations in the dataset?\n",
    "print(f\"Number of observations in the dataset {len(chipo)}\")\n"
   ]
  },
  {
   "cell_type": "code",
   "execution_count": 94,
   "id": "1fa7f305-6170-4c0c-8d65-f48489751406",
   "metadata": {},
   "outputs": [
    {
     "name": "stdout",
     "output_type": "stream",
     "text": [
      "\n",
      "Number of columns in the dataset: 5\n"
     ]
    }
   ],
   "source": [
    "# Step 6: What is the number of columns in the dataset?\n",
    "num_columns = chipo.shape[1]\n",
    "print(\"\\nNumber of columns in the dataset:\", num_columns)"
   ]
  },
  {
   "cell_type": "code",
   "execution_count": 95,
   "id": "c8b340c2-e906-4de9-9284-823f10f193d9",
   "metadata": {},
   "outputs": [
    {
     "name": "stdout",
     "output_type": "stream",
     "text": [
      "\n",
      "Column names:\n",
      " Index(['order_id', 'quantity', 'item_name', 'choice_description',\n",
      "       'item_price'],\n",
      "      dtype='object')\n"
     ]
    }
   ],
   "source": [
    "# Step 7: Print the name of all the columns\n",
    "print(\"\\nColumn names:\\n\", chipo.columns)"
   ]
  },
  {
   "cell_type": "code",
   "execution_count": 96,
   "id": "b7104d01-a6fa-46d3-93a0-8f570602172e",
   "metadata": {},
   "outputs": [
    {
     "name": "stdout",
     "output_type": "stream",
     "text": [
      "\n",
      "Dataset index:\n",
      " RangeIndex(start=0, stop=4622, step=1)\n"
     ]
    }
   ],
   "source": [
    "# Step 8: How is the dataset indexed?\n",
    "print(\"\\nDataset index:\\n\", chipo.index)"
   ]
  },
  {
   "cell_type": "code",
   "execution_count": 97,
   "id": "ad25f931-7e92-4886-aea3-9ab959f7bc7c",
   "metadata": {},
   "outputs": [
    {
     "name": "stdout",
     "output_type": "stream",
     "text": [
      "\n",
      "Most-ordered item: Chicken Bowl\n"
     ]
    }
   ],
   "source": [
    "# Step 9: Which was the most-ordered item?\n",
    "most_ordered_item = chipo.groupby('item_name')['quantity'].sum().idxmax()\n",
    "print(\"\\nMost-ordered item:\", most_ordered_item)\n"
   ]
  },
  {
   "cell_type": "code",
   "execution_count": 98,
   "id": "ed7dc6d5-a77e-41d0-924b-af15cacc54d4",
   "metadata": {},
   "outputs": [
    {
     "name": "stdout",
     "output_type": "stream",
     "text": [
      "\n",
      "Quantity of most-ordered item: 761\n"
     ]
    }
   ],
   "source": [
    "# Step 10: For the most-ordered item, how many items were ordered?\n",
    "most_ordered_quantity = chipo.groupby('item_name')['quantity'].sum().max()\n",
    "print(\"\\nQuantity of most-ordered item:\", most_ordered_quantity)"
   ]
  },
  {
   "cell_type": "code",
   "execution_count": 99,
   "id": "8c6a2d20-e00f-4eba-a380-795d28abddbc",
   "metadata": {},
   "outputs": [
    {
     "name": "stdout",
     "output_type": "stream",
     "text": [
      "\n",
      "Most-ordered item in choice_description: [Diet Coke]\n"
     ]
    }
   ],
   "source": [
    "# Step 11: What was the most ordered item in the choice_description column?\n",
    "most_ordered_choice = chipo.groupby('choice_description')['quantity'].sum().idxmax()\n",
    "print(\"\\nMost-ordered item in choice_description:\", most_ordered_choice)"
   ]
  },
  {
   "cell_type": "code",
   "execution_count": 100,
   "id": "8dcf0e75-64de-4def-a1d8-12c4e71f5ec6",
   "metadata": {},
   "outputs": [
    {
     "name": "stdout",
     "output_type": "stream",
     "text": [
      "\n",
      "Total items ordered: 4972\n"
     ]
    }
   ],
   "source": [
    "# Step 12: How many items were ordered in total?\n",
    "total_items_ordered = chipo['quantity'].sum()\n",
    "print(\"\\nTotal items ordered:\", total_items_ordered)"
   ]
  },
  {
   "cell_type": "code",
   "execution_count": 102,
   "id": "5c8b71d7-d1a7-47a5-a1d0-47bd9eb07a5e",
   "metadata": {},
   "outputs": [
    {
     "name": "stdout",
     "output_type": "stream",
     "text": [
      "      order_id  quantity                              item_name  \\\n",
      "0            1         1           Chips and Fresh Tomato Salsa   \n",
      "1            1         1                                   Izze   \n",
      "2            1         1                       Nantucket Nectar   \n",
      "3            1         1  Chips and Tomatillo-Green Chili Salsa   \n",
      "4            2         2                           Chicken Bowl   \n",
      "...        ...       ...                                    ...   \n",
      "4617      1833         1                          Steak Burrito   \n",
      "4618      1833         1                          Steak Burrito   \n",
      "4619      1834         1                     Chicken Salad Bowl   \n",
      "4620      1834         1                     Chicken Salad Bowl   \n",
      "4621      1834         1                     Chicken Salad Bowl   \n",
      "\n",
      "                                     choice_description  item_price  \n",
      "0                                                   NaN        2.39  \n",
      "1                                          [Clementine]        3.39  \n",
      "2                                               [Apple]        3.39  \n",
      "3                                                   NaN        2.39  \n",
      "4     [Tomatillo-Red Chili Salsa (Hot), [Black Beans...       16.98  \n",
      "...                                                 ...         ...  \n",
      "4617  [Fresh Tomato Salsa, [Rice, Black Beans, Sour ...       11.75  \n",
      "4618  [Fresh Tomato Salsa, [Rice, Sour Cream, Cheese...       11.75  \n",
      "4619  [Fresh Tomato Salsa, [Fajita Vegetables, Pinto...       11.25  \n",
      "4620  [Fresh Tomato Salsa, [Fajita Vegetables, Lettu...        8.75  \n",
      "4621  [Fresh Tomato Salsa, [Fajita Vegetables, Pinto...        8.75  \n",
      "\n",
      "[4622 rows x 5 columns]\n",
      "Item price type: float64\n"
     ]
    }
   ],
   "source": [
    "# Step 13: Convert item price to float\n",
    "\n",
    "# Convert the 'item_price' column to string type if it's not already\n",
    "chipo['item_price'] = chipo['item_price'].astype(str)\n",
    "\n",
    "# Remove the dollar sign and convert the column to float\n",
    "chipo['item_price'] = chipo['item_price'].str.replace(r'\\$', '', regex=True).astype(float)\n",
    "\n",
    "print(chipo)\n",
    "# Check the item price type\n",
    "print(\"Item price type:\", chipo['item_price'].dtype)\n"
   ]
  },
  {
   "cell_type": "code",
   "execution_count": 103,
   "id": "dbbd1f30-2625-4e91-89cf-0c95f347f263",
   "metadata": {},
   "outputs": [
    {
     "name": "stdout",
     "output_type": "stream",
     "text": [
      "Total revenue for the period: 39237.02\n"
     ]
    }
   ],
   "source": [
    "# Step 14: Calculate revenue (quantity * item_price)\n",
    "chipo['revenue'] = chipo['quantity'] * chipo['item_price']\n",
    "total_revenue = chipo['revenue'].sum()\n",
    "\n",
    "print(\"Total revenue for the period:\", total_revenue)\n"
   ]
  },
  {
   "cell_type": "code",
   "execution_count": 104,
   "id": "4d58cadf-7b4f-4775-9e81-d66cec6a177e",
   "metadata": {},
   "outputs": [
    {
     "name": "stdout",
     "output_type": "stream",
     "text": [
      "Total number of orders made: 1834\n"
     ]
    }
   ],
   "source": [
    "# Step 15: Count unique order IDs\n",
    "total_orders = chipo['order_id'].nunique()\n",
    "\n",
    "print(\"Total number of orders made:\", total_orders)\n"
   ]
  },
  {
   "cell_type": "code",
   "execution_count": 105,
   "id": "d53d2563-7172-4806-b35d-419d43600993",
   "metadata": {},
   "outputs": [
    {
     "name": "stdout",
     "output_type": "stream",
     "text": [
      "Average revenue per order: 21.39423118865867\n"
     ]
    }
   ],
   "source": [
    "# Step 16:Calculate average revenue per order\n",
    "average_revenue_per_order = total_revenue / total_orders\n",
    "\n",
    "print(\"Average revenue per order:\", average_revenue_per_order)\n"
   ]
  },
  {
   "cell_type": "code",
   "execution_count": 106,
   "id": "51457c36-a893-4ad3-a97d-02a1c02fc415",
   "metadata": {},
   "outputs": [
    {
     "name": "stdout",
     "output_type": "stream",
     "text": [
      "Number of different items sold: 50\n"
     ]
    }
   ],
   "source": [
    "# Step 17 : Count unique item names\n",
    "different_items_sold = chipo['item_name'].nunique()\n",
    "\n",
    "print(\"Number of different items sold:\", different_items_sold)\n"
   ]
  },
  {
   "cell_type": "code",
   "execution_count": null,
   "id": "83bfc6f4-771a-4626-ac53-cb00d84e60e7",
   "metadata": {},
   "outputs": [],
   "source": [
    "Question 6\n",
    "Create a line plot showing the number of marriages and divorces per capita in the\n",
    "U.S. between 1867 and 2014. Label both lines and show the legend. Don't forget to label your axes!"
   ]
  },
  {
   "cell_type": "code",
   "execution_count": 115,
   "id": "37f468fb-710e-42ee-8204-4bd862770198",
   "metadata": {},
   "outputs": [
    {
     "data": {
      "image/png": "[encoded data removed]",
      "text/plain": [
       "<Figure size 1000x600 with 1 Axes>"
      ]
     },
     "metadata": {},
     "output_type": "display_data"
    }
   ],
   "source": [
    "# Importing necessary libraries\n",
    "import pandas as pd\n",
    "import matplotlib.pyplot as plt\n",
    "\n",
    "# Loading the dataset\n",
    "file_path = 'us-marriages-divorces-1867-2014.csv'\n",
    "data = pd.read_csv(file_path)\n",
    "\n",
    "# Creating a line plot for Marriages and Divorces per 1000 population\n",
    "plt.figure(figsize=(10, 6))\n",
    "\n",
    "\n",
    "plt.plot(data['Year'], data['Marriages_per_1000'], label='Marriages per 1000', color='blue')\n",
    "plt.plot(data['Year'], data['Divorces_per_1000'], label='Divorces per 1000', color='red')\n",
    "\n",
    "# Adding labels and legend\n",
    "plt.title('Marriages and Divorces per Capita in the U.S. (1867-2014)')\n",
    "plt.xlabel('Year')\n",
    "plt.ylabel('Number per 1000')\n",
    "plt.legend()\n",
    "plt.grid(True)\n",
    "plt.show()\n"
   ]
  },
  {
   "cell_type": "code",
   "execution_count": null,
   "id": "91a9d4f2-48be-4f93-a8ce-13d45d74abb7",
   "metadata": {},
   "outputs": [],
   "source": [
    "Question 7\n",
    "Create a vertical bar chart comparing the number of marriages and divorces per capita in the U.S. between 1900, 1950, and 2000.\n",
    "Don't forget to label your axes!"
   ]
  },
  {
   "cell_type": "code",
   "execution_count": 110,
   "id": "ff3e7ed7-4f9f-4b2c-bc6d-b029ac2391b2",
   "metadata": {},
   "outputs": [
    {
     "data": {
      "image/png": "[encoded data removed]",
      "text/plain": [
       "<Figure size 1000x600 with 1 Axes>"
      ]
     },
     "metadata": {},
     "output_type": "display_data"
    }
   ],
   "source": [
    "\n",
    "import pandas as pd\n",
    "import matplotlib.pyplot as plt\n",
    "\n",
    "file_path = 'us-marriages-divorces-1867-2014.csv'\n",
    "data = pd.read_csv(file_path)\n",
    "\n",
    "# Filtering the dataset for the years 1900, 1950, and 2000\n",
    "selected_years = data[data['Year'].isin([1900, 1950, 2000])]\n",
    "\n",
    "\n",
    "plt.figure(figsize=(10, 6))\n",
    "x = range(len(selected_years))  \n",
    "\n",
    "# Creating visuals\n",
    "plt.bar(x, selected_years['Marriages_per_1000'], width=0.4, label='Marriages per 1000', color='mediumseagreen', align='center')\n",
    "plt.bar([i + 0.4 for i in x], selected_years['Divorces_per_1000'], width=0.4, label='Divorces per 1000', color='cornflowerblue', align='center')\n",
    "\n",
    "# Adding labels and title\n",
    "plt.title('Marriages and Divorces per Capita in the U.S. (1900, 1950, 2000)')\n",
    "plt.xlabel('Year')\n",
    "plt.ylabel('Number per 1000')\n",
    "plt.xticks([i + 0.2 for i in x], selected_years['Year'])  # Adjust x-ticks to be between the groups\n",
    "plt.legend()\n",
    "\n",
    "# Adding grid lines\n",
    "plt.grid(axis='y', linestyle='--', alpha=0.7)\n",
    "plt.show()\n"
   ]
  },
  {
   "cell_type": "code",
   "execution_count": null,
   "id": "a87fc52e-a0d9-4b2e-a3b8-b7f9b5a27781",
   "metadata": {},
   "outputs": [],
   "source": [
    "Question 8"
   ]
  },
  {
   "cell_type": "code",
   "execution_count": null,
   "id": "bb529906-d5db-4483-b77a-5fa143dae5d9",
   "metadata": {},
   "outputs": [],
   "source": [
    "Create a horizontal bar chart that compares the deadliest actors in Hollywood. Sort the actors by their kill count and label each bar with the corresponding actor's name. Don't forget to label your axes!"
   ]
  },
  {
   "cell_type": "code",
   "execution_count": 111,
   "id": "923d1e0a-8284-4173-bc4c-02cf54e74ab3",
   "metadata": {},
   "outputs": [
    {
     "data": {
      "image/png": "[encoded data removed]",
      "text/plain": [
       "<Figure size 1000x800 with 1 Axes>"
      ]
     },
     "metadata": {},
     "output_type": "display_data"
    }
   ],
   "source": [
    "import pandas as pd\n",
    "import matplotlib.pyplot as plt\n",
    "\n",
    "file_path = 'actor_kill_counts.csv'\n",
    "data = pd.read_csv(file_path)\n",
    "\n",
    "data_sorted = data.sort_values(by='Count', ascending=True)\n",
    "\n",
    "plt.figure(figsize=(10, 8))\n",
    "\n",
    "plt.barh(data_sorted['Actor'], data_sorted['Count'], color='blue')\n",
    "\n",
    "plt.xlabel('Kill Count', fontweight='bold')\n",
    "plt.ylabel('Actor', fontweight='bold')\n",
    "plt.title('Deadliest Actors in Hollywood', fontweight='bold')\n",
    "\n",
    "for index, value in enumerate(data_sorted['Count']):\n",
    "    plt.text(value, index, str(value))\n",
    "\n",
    "plt.show()\n"
   ]
  },
  {
   "cell_type": "code",
   "execution_count": null,
   "id": "962dbccf-4d13-496f-8add-6b3e48f96383",
   "metadata": {},
   "outputs": [],
   "source": [
    "Question 9"
   ]
  },
  {
   "cell_type": "code",
   "execution_count": null,
   "id": "590c2b95-c8b5-45df-ac43-0dab6a03177e",
   "metadata": {},
   "outputs": [],
   "source": [
    "Create a pie chart showing the fraction of all Roman Emperors that were assassinated.\n",
    "Make sure that the pie chart is an even circle, labels the categories, and shows the percentage breakdown of the categories."
   ]
  },
  {
   "cell_type": "code",
   "execution_count": 116,
   "id": "9da93cdb-1837-4915-8257-206ed51a1170",
   "metadata": {},
   "outputs": [
    {
     "data": {
      "image/png": "[encoded data removed]",
      "text/plain": [
       "<Figure size 800x800 with 1 Axes>"
      ]
     },
     "metadata": {},
     "output_type": "display_data"
    }
   ],
   "source": [
    "import pandas as pd\n",
    "import matplotlib.pyplot as plt\n",
    "\n",
    "# Loading the dataset\n",
    "file_path = 'roman-emperor-reigns.csv'\n",
    "data = pd.read_csv(file_path)\n",
    "\n",
    "assassinated = data[data['Cause_of_Death'] == 'Assassinated'].shape[0]\n",
    "total = data.shape[0]\n",
    "other_deaths = total - assassinated\n",
    "\n",
    "# Labels and data for the pie chart\n",
    "labels = ['Assassinated', 'Other Causes']\n",
    "sizes = [assassinated, other_deaths]\n",
    "colors = ['lightcoral', 'palegoldenrod']  # Softer light colors\n",
    "plt.figure(figsize=(8, 8))\n",
    "plt.pie(sizes, labels=labels, colors=colors, autopct='%1.1f%%', startangle=140)\n",
    "plt.axis('equal')\n",
    "plt.title('Fraction of Roman Emperors Assassinated', fontweight='bold')\n",
    "plt.show()\n"
   ]
  },
  {
   "cell_type": "code",
   "execution_count": null,
   "id": "74e2df4a-5544-43d5-81a4-df088ebd68e6",
   "metadata": {},
   "outputs": [],
   "source": [
    "Question 10"
   ]
  },
  {
   "cell_type": "code",
   "execution_count": null,
   "id": "ec9e262b-92c9-4a85-a2a5-cc31630908be",
   "metadata": {},
   "outputs": [],
   "source": [
    "Create a scatter plot showing the relationship between the total revenue earned by arcades and the number of Computer Science PhDs awarded in the U.S. between 2000 and 2009.\n",
    "Don't forget to label your axes! Color each dot according to its year."
   ]
  },
  {
   "cell_type": "code",
   "execution_count": 117,
   "id": "4c3c17c6-e25b-487f-8a8a-5e9cece8bf20",
   "metadata": {},
   "outputs": [
    {
     "data": {
      "image/png": "[encoded data removed]",
      "text/plain": [
       "<Figure size 1000x800 with 2 Axes>"
      ]
     },
     "metadata": {},
     "output_type": "display_data"
    }
   ],
   "source": [
    "import pandas as pd\n",
    "import matplotlib.pyplot as plt\n",
    "\n",
    "# Loading the dataset\n",
    "file_path = 'arcade-revenue-vs-cs-doctorates.csv'\n",
    "data = pd.read_csv(file_path)\n",
    "\n",
    "# Filtering the data for years between 2000 and 2009\n",
    "filtered_data = data[(data['Year'] >= 2000) & (data['Year'] <= 2009)]\n",
    "\n",
    "plt.figure(figsize=(10, 8))\n",
    "scatter = plt.scatter(\n",
    "    filtered_data['Total Arcade Revenue (billions)'],\n",
    "    filtered_data['Computer Science Doctorates Awarded (US)'],\n",
    "    c=filtered_data['Year'], \n",
    "    cmap='viridis', \n",
    "    s=100\n",
    ")\n",
    "\n",
    "plt.colorbar(scatter, label='Year')\n",
    "# Adding axis labels and title\n",
    "plt.xlabel('Total Arcade Revenue (billions)')\n",
    "plt.ylabel('Computer Science PhDs Awarded (US)')\n",
    "plt.title('Relationship between Arcade Revenue and Computer Science PhDs (2000-2009)')\n",
    "plt.show()\n"
   ]
  },
  {
   "cell_type": "code",
   "execution_count": null,
   "id": "f1ef2686-3392-4b04-9ba2-558267979c74",
   "metadata": {},
   "outputs": [],
   "source": []
  }
 ],
 "metadata": {
  "kernelspec": {
   "display_name": "Python 3 (ipykernel)",
   "language": "python",
   "name": "python3"
  },
  "language_info": {
   "codemirror_mode": {
    "name": "ipython",
    "version": 3
   },
   "file_extension": ".py",
   "mimetype": "text/x-python",
   "name": "python",
   "nbconvert_exporter": "python",
   "pygments_lexer": "ipython3",
   "version": "3.12.4"
  }
 },
 "nbformat": 4,
 "nbformat_minor": 5
}
